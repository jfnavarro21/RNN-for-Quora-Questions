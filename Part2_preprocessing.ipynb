{
 "cells": [
  {
   "cell_type": "markdown",
   "metadata": {
    "collapsed": true,
    "nbpresent": {
     "id": "f765eb10-54e6-4a14-912b-e5117e8f433d"
    }
   },
   "source": [
    "# Advanced Machine Learning (MScA, 32017)\n",
    "\n",
    "# Project: Paraphrase Detection\n",
    "\n",
    "# Part 2: Solution by recurrent neural network\n",
    "\n",
    "### Yuri Balasanov, Leonid Nazarov, &copy; iLykei 2017\n",
    "\n",
    "Keras provides tools for Natural Language Processing including preprocessing text and working with pre-trained word embeddings. The goal of this notebook is to describe those tools and to give some basic examples of using them."
   ]
  },
  {
   "cell_type": "markdown",
   "metadata": {},
   "source": [
    "# Tools for Preprocessing Text\n",
    "\n",
    "\n",
    "## Text_to_word_sequence\n",
    "\n",
    "Function   \n",
    "\n",
    "*text_to_word_sequence(text, filters,lower=True,split=\" \")*  \n",
    "\n",
    "splits a sentence into a list of words. The arguments are\n",
    "\n",
    "- *text*: string.\n",
    "- *filters*: list (or concatenation) of characters to filter out, such as punctuation. Default: \n",
    "\n",
    "'!\"#$%&()*+,-./:;<=>?@[\\]^_`{|}~\\t\\n' , includes basic punctuation, tabs, and newlines.\n",
    "\n",
    "- *lower*: boolean. Whether to set the text to lowercase.\n",
    "- *split*: string. Separator for word splitting.\n",
    "\n",
    "Apply it to Quora questions"
   ]
  },
  {
   "cell_type": "code",
   "execution_count": 1,
   "metadata": {
    "scrolled": false
   },
   "outputs": [
    {
     "name": "stderr",
     "output_type": "stream",
     "text": [
      "Using TensorFlow backend.\n"
     ]
    },
    {
     "name": "stdout",
     "output_type": "stream",
     "text": [
      "What is the step by step guide to invest in share market in india?\n",
      "['what', 'is', 'the', 'step', 'by', 'step', 'guide', 'to', 'invest', 'in', 'share', 'market', 'in', 'india']\n"
     ]
    }
   ],
   "source": [
    "%matplotlib inline\n",
    "from keras.preprocessing.text import text_to_word_sequence, one_hot, Tokenizer \n",
    "import pandas as pd\n",
    "import os\n",
    "import numpy as np\n",
    "\n",
    "\n",
    "dataPath = \"./data/\"\n",
    "train = pd.read_csv(dataPath+'quora_train_1000.csv',usecols=['question1','question2'])\n",
    "train.dropna(inplace=True) # remove two rows as in NLP feature creation\n",
    "train = train[:1000] # only for demo and testing, comment out with complete data\n",
    "question = train.question1[0]\n",
    "print(question)\n",
    "print(text_to_word_sequence(question))"
   ]
  },
  {
   "cell_type": "code",
   "execution_count": 2,
   "metadata": {},
   "outputs": [
    {
     "data": {
      "text/html": [
       "<div>\n",
       "<style>\n",
       "    .dataframe thead tr:only-child th {\n",
       "        text-align: right;\n",
       "    }\n",
       "\n",
       "    .dataframe thead th {\n",
       "        text-align: left;\n",
       "    }\n",
       "\n",
       "    .dataframe tbody tr th {\n",
       "        vertical-align: top;\n",
       "    }\n",
       "</style>\n",
       "<table border=\"1\" class=\"dataframe\">\n",
       "  <thead>\n",
       "    <tr style=\"text-align: right;\">\n",
       "      <th></th>\n",
       "      <th>question1</th>\n",
       "      <th>question2</th>\n",
       "    </tr>\n",
       "  </thead>\n",
       "  <tbody>\n",
       "    <tr>\n",
       "      <th>0</th>\n",
       "      <td>What is the step by step guide to invest in sh...</td>\n",
       "      <td>What is the step by step guide to invest in sh...</td>\n",
       "    </tr>\n",
       "    <tr>\n",
       "      <th>1</th>\n",
       "      <td>What is the story of Kohinoor (Koh-i-Noor) Dia...</td>\n",
       "      <td>What would happen if the Indian government sto...</td>\n",
       "    </tr>\n",
       "    <tr>\n",
       "      <th>2</th>\n",
       "      <td>How can I increase the speed of my internet co...</td>\n",
       "      <td>How can Internet speed be increased by hacking...</td>\n",
       "    </tr>\n",
       "    <tr>\n",
       "      <th>3</th>\n",
       "      <td>Why am I mentally very lonely? How can I solve...</td>\n",
       "      <td>Find the remainder when [math]23^{24}[/math] i...</td>\n",
       "    </tr>\n",
       "    <tr>\n",
       "      <th>4</th>\n",
       "      <td>Which one dissolve in water quikly sugar, salt...</td>\n",
       "      <td>Which fish would survive in salt water?</td>\n",
       "    </tr>\n",
       "  </tbody>\n",
       "</table>\n",
       "</div>"
      ],
      "text/plain": [
       "                                           question1  \\\n",
       "0  What is the step by step guide to invest in sh...   \n",
       "1  What is the story of Kohinoor (Koh-i-Noor) Dia...   \n",
       "2  How can I increase the speed of my internet co...   \n",
       "3  Why am I mentally very lonely? How can I solve...   \n",
       "4  Which one dissolve in water quikly sugar, salt...   \n",
       "\n",
       "                                           question2  \n",
       "0  What is the step by step guide to invest in sh...  \n",
       "1  What would happen if the Indian government sto...  \n",
       "2  How can Internet speed be increased by hacking...  \n",
       "3  Find the remainder when [math]23^{24}[/math] i...  \n",
       "4            Which fish would survive in salt water?  "
      ]
     },
     "execution_count": 2,
     "metadata": {},
     "output_type": "execute_result"
    }
   ],
   "source": [
    "train.head()"
   ]
  },
  {
   "cell_type": "code",
   "execution_count": 3,
   "metadata": {},
   "outputs": [
    {
     "data": {
      "text/plain": [
       "(1000, 2)"
      ]
     },
     "execution_count": 3,
     "metadata": {},
     "output_type": "execute_result"
    }
   ],
   "source": [
    "train.shape"
   ]
  },
  {
   "cell_type": "markdown",
   "metadata": {},
   "source": [
    "## One_hot\n",
    "\n",
    "Function   \n",
    "\n",
    "*one_hot(text,n,filters,lower=True,split=\" \")*.    \n",
    "\n",
    "One-hot encodes a text into a list of numeric indices corresponding to words in a vocabulary of size n. <br>\n",
    "Returns list of integers in [1, n]. Each integer encodes a word (uniqueness non-guaranteed).  \n",
    "Integer *n* is vocabulary size, i.e. the number of different hash fields in the vocabulary. <br>\n",
    "Other parameters are the same as in *text_to_word_sequence*.\n",
    "\n",
    "In spite of the name it is **not one-hot**, the function actually implements [**hashing trick**](http://alex.smola.org/papers/2009/Weinbergeretal09.pdf) using *hash()* function. \n",
    "\n",
    "Hashing trick is named in association with kernel trick, but the way it works is in some sence opposite:\n",
    "\n",
    "- Kurnel trick expands dimensionality of the space in order to find a separating hyperplane;\n",
    "- Hashing trick reduces dimensionality by assigning a relatively small fixed number of hash labels to a multidimensional objects, like bag-of-words object.\n",
    "\n",
    "Here is an example.\n",
    "\n",
    "Apply one-hot to a simple sentence and see how hashing depends on the size of vocabulary."
   ]
  },
  {
   "cell_type": "code",
   "execution_count": 4,
   "metadata": {},
   "outputs": [
    {
     "name": "stdout",
     "output_type": "stream",
     "text": [
      "What is the step by step guide to invest in share market in india?\n",
      "[1, 1, 1]\n",
      "[1, 2, 2]\n",
      "[3, 2, 2]\n",
      "[3, 4, 4]\n",
      "[2, 4, 4]\n",
      "[3, 2, 2]\n",
      "[6, 6, 2]\n",
      "[7, 4, 8]\n"
     ]
    }
   ],
   "source": [
    "myText=text_to_word_sequence('I love data')\n",
    "print(question)\n",
    "for i in range(2,10,1):\n",
    "        print(one_hot('I love data',i))"
   ]
  },
  {
   "cell_type": "markdown",
   "metadata": {},
   "source": [
    "Note **collisions**, i.e. same hashes assigned to different words. <br>\n",
    "Collisions reduce accuracy of classification, but not as much as it might seem: in [this article](http://hunch.net/~jl/projects/hash_reps/hash_kernels/hashkernel.pdf) authors described an experiment in which they observed collision rate of 94% (94% of features mapped to the same index as one or more other features) resulting in an increase in the experimental error rate from 5.5% to only 6%.\n",
    "\n",
    "Apply one-hot to the one of the questions. Use vocabulary of sizes 5 and 1000."
   ]
  },
  {
   "cell_type": "code",
   "execution_count": 6,
   "metadata": {
    "scrolled": true
   },
   "outputs": [
    {
     "name": "stdout",
     "output_type": "stream",
     "text": [
      "What is the step by step guide to invest in share market in india?\n",
      "12 unique words\n",
      "[3, 3, 2, 2, 2, 2, 2, 1, 2, 2, 1, 2, 2, 2] 3\n",
      "[608, 709, 933, 959, 241, 959, 134, 345, 956, 59, 902, 204, 59, 212] 12\n"
     ]
    }
   ],
   "source": [
    "print(question)\n",
    "print(len(set(text_to_word_sequence(question))),'unique words')\n",
    "print(one_hot(question,5),len(set(one_hot(question,5))))\n",
    "print(one_hot(question,1000),len(set(one_hot(question,1000))))"
   ]
  },
  {
   "cell_type": "markdown",
   "metadata": {
    "collapsed": true
   },
   "source": [
    "Note that with larger hash encoding is more likely unique.\n",
    "\n",
    "## Tokenizer\n",
    "\n",
    "Class  \n",
    "\n",
    "*Tokenizer(num_words=None,filters,lower=True,split=\" \",char_level=False)*  \n",
    "\n",
    "is designed for vectorizing texts, and/or turning texts into numeric sequences (=list of word indexes, where the word of rank i in the dataset (starting at 1) has index i).\n",
    "\n",
    "Arguments *filters, lower, split* are the same as in *text_to_word_sequence* above.\n",
    "\n",
    "- num_words: None or integer. Maximum number of words to work with (if set, tokenization will be restricted to the top num_words most common words in the dataset).\n",
    "- char_level: if True, every character will be treated as a token.  \n",
    "\n",
    "Method *fit_on_texts* takes the list of texts for training on as argument. <br>\n",
    "After *fit_on_texts* call class object has the following attrubutes:  \n",
    "\n",
    "- *word_counts*: dictionary mapping words (str) to their appearance number.\n",
    "- *word_docs*: dictionary mapping words (str) to the number of documents/texts in which they appeared.\n",
    "- *word_index*: dictionary mapping words (str) to their rank/index (int).\n",
    "- *document_count*: int. Number of documents (texts/sequences) the tokenizer was trained on.\n",
    "\n",
    " Apply *fit_on_texts* to the pair of questions and look at the  returned object attributes."
   ]
  },
  {
   "cell_type": "code",
   "execution_count": 12,
   "metadata": {
    "scrolled": false
   },
   "outputs": [
    {
     "name": "stdout",
     "output_type": "stream",
     "text": [
      "How can I be a good geologist?\n",
      "What should I do to be a great geologist?\n",
      "word_index = {'i': 1, 'be': 2, 'a': 3, 'geologist': 4, 'how': 5, 'can': 6, 'good': 7, 'what': 8, 'should': 9, 'do': 10, 'to': 11, 'great': 12}\n",
      "word_counts = OrderedDict([('how', 1), ('can', 1), ('i', 2), ('be', 2), ('a', 2), ('good', 1), ('geologist', 2), ('what', 1), ('should', 1), ('do', 1), ('to', 1), ('great', 1)])\n",
      "word_docs = {'i': 2, 'can': 1, 'how': 1, 'geologist': 2, 'good': 1, 'a': 2, 'be': 2, 'should': 1, 'do': 1, 'great': 1, 'to': 1, 'what': 1}\n",
      "document_count = 2\n"
     ]
    }
   ],
   "source": [
    "texts = [train.question1[7],train.question2[7]]\n",
    "print(texts[0])\n",
    "print(texts[1])\n",
    "tokenizer = Tokenizer()\n",
    "tokenizer.fit_on_texts(texts)\n",
    "for attr in ['word_index','word_counts','word_docs','document_count']:\n",
    "    print(attr, '=', vars(tokenizer)[attr])"
   ]
  },
  {
   "cell_type": "markdown",
   "metadata": {},
   "source": [
    "## Texts_to_sequences\n",
    "\n",
    "Method  \n",
    "\n",
    "*texts_to_sequences(texts)* \n",
    "\n",
    "transforms list of texts to list of sequences (one per text input)."
   ]
  },
  {
   "cell_type": "code",
   "execution_count": 13,
   "metadata": {},
   "outputs": [
    {
     "data": {
      "text/plain": [
       "[[5, 6, 1, 2, 3, 7, 4], [8, 9, 1, 10, 11, 2, 3, 12, 4]]"
      ]
     },
     "execution_count": 13,
     "metadata": {},
     "output_type": "execute_result"
    }
   ],
   "source": [
    "tokenizer.texts_to_sequences(texts)"
   ]
  },
  {
   "cell_type": "markdown",
   "metadata": {},
   "source": [
    "Each word is replaced with its index in *word_index*.  \n",
    "\n",
    "Method \n",
    "\n",
    "*texts_to_matrix(texts)*  \n",
    "\n",
    "can be used to create one vector per document in *texts*.  <br>\n",
    "Length of vector is the total size of the vocabulary. <br>\n",
    "So, method returns numpy array of shape (len(texts), len(tokenizer.word_index)+1).\n",
    "\n",
    "In default \"binary\" mode the vector component equals 0 if there is no such word in the document."
   ]
  },
  {
   "cell_type": "code",
   "execution_count": 26,
   "metadata": {
    "scrolled": false
   },
   "outputs": [
    {
     "name": "stdout",
     "output_type": "stream",
     "text": [
      "['How can I be a good geologist?', 'What should I do to be a great geologist?']\n",
      "[[ 0.  1.  1.  1.  1.  1.  1.  1.  0.  0.  0.  0.  0.]\n",
      " [ 0.  1.  1.  1.  1.  0.  0.  0.  1.  1.  1.  1.  1.]]\n"
     ]
    }
   ],
   "source": [
    "print(texts)\n",
    "print(tokenizer.texts_to_matrix(texts))"
   ]
  },
  {
   "cell_type": "markdown",
   "metadata": {},
   "source": [
    "Modes \"count\", \"tfidf\" and \"freq\" are also available.\n",
    "\n",
    "Note that *texts_to_matrix* does not fit texts. It uses results of *fit_on_texts* call. In the example below we get zero vectors since selected questions have no words common with *texts* above."
   ]
  },
  {
   "cell_type": "code",
   "execution_count": 14,
   "metadata": {
    "scrolled": true
   },
   "outputs": [
    {
     "name": "stdout",
     "output_type": "stream",
     "text": [
      "['Which one dissolve in water quikly sugar, salt, methane and carbon di oxide?', 'Which one dissolve in water quikly sugar, salt, methane and carbon di oxide?']\n",
      "[[ 0.  0.  0.  0.  0.  0.  0.  0.  0.  0.  0.  0.  0.]\n",
      " [ 0.  0.  0.  0.  0.  0.  0.  0.  0.  0.  0.  0.  0.]]\n"
     ]
    }
   ],
   "source": [
    "texts1 = [train.question1[4],train.question1[4]]\n",
    "print(texts1)\n",
    "print(tokenizer.texts_to_matrix(texts1))"
   ]
  },
  {
   "cell_type": "markdown",
   "metadata": {},
   "source": [
    "## Embedding layer\n",
    "\n",
    "There is special layer in Keras designed to work with or without pre-trained embeddings or mappings of numbers from some vocabulary to vectors of real numbers:  \n",
    "\n",
    "*keras.layers.Embedding(input_dim, output_dim, embeddings_initializer='uniform', embeddings_regularizer=None, activity_regularizer=None, embeddings_constraint=None, mask_zero=False, input_length=None)*  \n",
    "\n",
    "This layer turns positive integers (usually word indexes in a dictionary) into dense vectors of fixed size. This layer can only be used as the first layer in a model. \n",
    "\n",
    "The list of arguments that will be used:\n",
    "\n",
    "- *input_dim*: int > 0. Size of the vocabulary, i.e. maximum size of dictionary.\n",
    "- *output_dim*: int >= 0. Dimension of the dense embedding.\n",
    "- *input_length*: Length of input sequences, when it is constant. This argument is required if you are going to connect Flatten then Dense layers upstream (without it, the shape of the dense outputs cannot be computed).  \n",
    "\n",
    "Below is the example of small sequential network with not pre-trained embedding layer. \n",
    "\n",
    "The largest integer (i.e. word index) in the input should not be larger than 999 (vocabulary size). \n",
    "\n",
    "Now model.output_shape == (None, 10, 64), where None is the batch dimension."
   ]
  },
  {
   "cell_type": "code",
   "execution_count": 15,
   "metadata": {},
   "outputs": [
    {
     "data": {
      "image/svg+xml": [
       "<svg height=\"118pt\" viewBox=\"0.00 0.00 203.00 118.00\" width=\"203pt\" xmlns=\"http://www.w3.org/2000/svg\" xmlns:xlink=\"http://www.w3.org/1999/xlink\">\n",
       "<g class=\"graph\" id=\"graph0\" transform=\"scale(1 1) rotate(0) translate(4 114)\">\n",
       "<title>G</title>\n",
       "<polygon fill=\"white\" points=\"-4,4 -4,-114 199,-114 199,4 -4,4\" stroke=\"none\"/>\n",
       "<!-- 2494388446992 -->\n",
       "<g class=\"node\" id=\"node1\"><title>2494388446992</title>\n",
       "<polygon fill=\"none\" points=\"0,-73.5 0,-109.5 195,-109.5 195,-73.5 0,-73.5\" stroke=\"black\"/>\n",
       "<text font-family=\"Times New Roman,serif\" font-size=\"14.00\" text-anchor=\"middle\" x=\"97.5\" y=\"-87.8\">embedding_1_input: InputLayer</text>\n",
       "</g>\n",
       "<!-- 2494388446656 -->\n",
       "<g class=\"node\" id=\"node2\"><title>2494388446656</title>\n",
       "<polygon fill=\"none\" points=\"16,-0.5 16,-36.5 179,-36.5 179,-0.5 16,-0.5\" stroke=\"black\"/>\n",
       "<text font-family=\"Times New Roman,serif\" font-size=\"14.00\" text-anchor=\"middle\" x=\"97.5\" y=\"-14.8\">embedding_1: Embedding</text>\n",
       "</g>\n",
       "<!-- 2494388446992&#45;&gt;2494388446656 -->\n",
       "<g class=\"edge\" id=\"edge1\"><title>2494388446992-&gt;2494388446656</title>\n",
       "<path d=\"M97.5,-73.3129C97.5,-65.2895 97.5,-55.5475 97.5,-46.5691\" fill=\"none\" stroke=\"black\"/>\n",
       "<polygon fill=\"black\" points=\"101,-46.5288 97.5,-36.5288 94.0001,-46.5289 101,-46.5288\" stroke=\"black\"/>\n",
       "</g>\n",
       "</g>\n",
       "</svg>"
      ],
      "text/plain": [
       "<IPython.core.display.SVG object>"
      ]
     },
     "execution_count": 15,
     "metadata": {},
     "output_type": "execute_result"
    }
   ],
   "source": [
    "from keras.models import Sequential\n",
    "from keras.layers import Embedding\n",
    "from keras.utils import plot_model\n",
    "from IPython.display import SVG\n",
    "from keras.utils.vis_utils import model_to_dot\n",
    "\n",
    "model = Sequential()\n",
    "# vocabulary of 7, giving vector of length 5, expect back matrix of 5x2\n",
    "model.add(Embedding(input_dim=7, output_dim=2, input_length=5))\n",
    "\n",
    "SVG(model_to_dot(model).create(prog='dot', format='svg'))"
   ]
  },
  {
   "cell_type": "markdown",
   "metadata": {},
   "source": [
    "This network consists of embedding layer. <br>\n",
    "\n",
    "It takes as input a numeric tensor of shape (None,input_length) and the first dimension of tensor shape is not specified ahead of time. <br>\n",
    "\n",
    "The output is a tensor with shape (None,input_length,output_dim) which is created by associating each number of the input with a vector of length *output_dim* based on the dictionary of length *input_dim* of vectors of length *output_dim*, i.e.dictionary has dimensions (input_dim,output_dim). <br>\n",
    "\n",
    "Dictionaly may be provided or not. Embedding layer may be trained or just use provided dictionary. <br>\n",
    "Trained weights have dimension (input_dim,output_dim).\n",
    "\n",
    "Print summary of the layer."
   ]
  },
  {
   "cell_type": "code",
   "execution_count": 18,
   "metadata": {},
   "outputs": [
    {
     "name": "stdout",
     "output_type": "stream",
     "text": [
      "_________________________________________________________________\n",
      "Layer (type)                 Output Shape              Param #   \n",
      "=================================================================\n",
      "embedding_1 (Embedding)      (None, 5, 2)              14        \n",
      "=================================================================\n",
      "Total params: 14\n",
      "Trainable params: 14\n",
      "Non-trainable params: 0\n",
      "_________________________________________________________________\n",
      "None\n"
     ]
    }
   ],
   "source": [
    "print(model.summary())\n",
    "embeddingWeights=model.get_weights()"
   ]
  },
  {
   "cell_type": "markdown",
   "metadata": {},
   "source": [
    "Weights in this example are not trained, but randomly selected."
   ]
  },
  {
   "cell_type": "code",
   "execution_count": 19,
   "metadata": {},
   "outputs": [
    {
     "data": {
      "text/plain": [
       "[array([[ 0.00404574,  0.04395901],\n",
       "        [-0.01903176,  0.00661968],\n",
       "        [-0.04307199, -0.03223918],\n",
       "        [-0.04035587,  0.03969958],\n",
       "        [ 0.02194336,  0.03976114],\n",
       "        [ 0.01879166,  0.00146125],\n",
       "        [ 0.04085871, -0.01919118]], dtype=float32)]"
      ]
     },
     "execution_count": 19,
     "metadata": {},
     "output_type": "execute_result"
    }
   ],
   "source": [
    "embeddingWeights"
   ]
  },
  {
   "cell_type": "raw",
   "metadata": {},
   "source": [
    "Create random input vector and predict output."
   ]
  },
  {
   "cell_type": "code",
   "execution_count": 20,
   "metadata": {},
   "outputs": [
    {
     "name": "stdout",
     "output_type": "stream",
     "text": [
      "[[0 0 1 2 0]]\n"
     ]
    },
    {
     "data": {
      "text/plain": [
       "array([[[ 0.00404574,  0.04395901],\n",
       "        [ 0.00404574,  0.04395901],\n",
       "        [-0.01903176,  0.00661968],\n",
       "        [-0.04307199, -0.03223918],\n",
       "        [ 0.00404574,  0.04395901]]], dtype=float32)"
      ]
     },
     "execution_count": 20,
     "metadata": {},
     "output_type": "execute_result"
    }
   ],
   "source": [
    "input_array = np.random.randint(5, size=(1, 5))\n",
    "print(input_array)\n",
    "model.compile('rmsprop', 'mse')\n",
    "output_array = model.predict(input_array)\n",
    "output_array"
   ]
  },
  {
   "cell_type": "markdown",
   "metadata": {},
   "source": [
    "Observe how output array is created from the input and the matrix of weights: rows of output are arrays assigned to each element of the input."
   ]
  },
  {
   "cell_type": "code",
   "execution_count": 21,
   "metadata": {
    "collapsed": true
   },
   "outputs": [],
   "source": [
    "embeddingWeights=embeddingWeights[0]+1"
   ]
  },
  {
   "cell_type": "code",
   "execution_count": 22,
   "metadata": {},
   "outputs": [
    {
     "name": "stdout",
     "output_type": "stream",
     "text": [
      "Weights set to:\n",
      "[array([[ 1.00404572,  1.04395902],\n",
      "       [ 0.98096824,  1.00661969],\n",
      "       [ 0.95692801,  0.9677608 ],\n",
      "       [ 0.95964414,  1.03969955],\n",
      "       [ 1.02194333,  1.03976119],\n",
      "       [ 1.01879168,  1.00146127],\n",
      "       [ 1.04085875,  0.98080879]], dtype=float32)]\n",
      "Output is:\n"
     ]
    },
    {
     "data": {
      "text/plain": [
       "array([[[ 1.00404572,  1.04395902],\n",
       "        [ 1.00404572,  1.04395902],\n",
       "        [ 0.98096824,  1.00661969],\n",
       "        [ 0.95692801,  0.9677608 ],\n",
       "        [ 1.00404572,  1.04395902]]], dtype=float32)"
      ]
     },
     "execution_count": 22,
     "metadata": {},
     "output_type": "execute_result"
    }
   ],
   "source": [
    "model1 = Sequential()\n",
    "model1.add(Embedding(input_dim=7,weights=[embeddingWeights], output_dim=2, input_length=5))\n",
    "SVG(model_to_dot(model1).create(prog='dot', format='svg'))\n",
    "model1.compile('rmsprop', 'mse')\n",
    "output_array = model1.predict(input_array)\n",
    "print('Weights set to:')\n",
    "print(model1.get_weights())\n",
    "print('Output is:')\n",
    "output_array"
   ]
  },
  {
   "cell_type": "markdown",
   "metadata": {},
   "source": [
    "In Quora project embedding layer will take as input sequence of word indices in a vocabulary and return a vector of fixed length for each index according to a specially trained matrix.  \n",
    "\n",
    "## LTSM layer\n",
    "\n",
    "LSTM networks belong to a type of recurrent neural network capable of learning order dependence in sequence prediction problems. \n",
    "\n",
    "Here is an excellent post: [Understanding LSTM Networks](http://colah.github.io/posts/2015-08-Understanding-LSTMs/). \n",
    "\n",
    "### Regression example of LSTM model\n",
    "\n",
    "In this example create model with 1 LSTM layer to predict next value of a sequence of points taken from the curve shown on the following graph."
   ]
  },
  {
   "cell_type": "code",
   "execution_count": 23,
   "metadata": {},
   "outputs": [
    {
     "data": {
      "text/plain": [
       "[<matplotlib.lines.Line2D at 0x244c5914470>]"
      ]
     },
     "execution_count": 23,
     "metadata": {},
     "output_type": "execute_result"
    },
    {
     "data": {
      "image/png": "[encoded data removed]",
      "text/plain": [
       "<matplotlib.figure.Figure at 0x244bd811550>"
      ]
     },
     "metadata": {},
     "output_type": "display_data"
    }
   ],
   "source": [
    "%matplotlib inline\n",
    "import numpy as np\n",
    "from keras.layers import Dense, Activation, LSTM, Input\n",
    "from keras.models import Sequential, Model\n",
    "from keras.optimizers import Adagrad, adam\n",
    "from keras.utils import plot_model\n",
    "from keras.callbacks import EarlyStopping\n",
    "import matplotlib.pyplot as plt\n",
    "from IPython.display import SVG\n",
    "from keras.utils.vis_utils import model_to_dot\n",
    "\n",
    "\n",
    "\n",
    "N = 1000\n",
    "H = 2*np.pi/N\n",
    "t = H*np.arange(N)\n",
    "X = np.sin(t)*t\n",
    "\n",
    "plt.plot(t,X)\n"
   ]
  },
  {
   "cell_type": "markdown",
   "metadata": {},
   "source": [
    "Generate the data"
   ]
  },
  {
   "cell_type": "code",
   "execution_count": 36,
   "metadata": {
    "collapsed": true
   },
   "outputs": [],
   "source": [
    "look_back = 6\n",
    "start = np.arange(N-look_back-1) # indexes of the sequence beginnig\n",
    "target = X[start+look_back]  # values to be predicted\n",
    "data = np.array([X[i:(i+look_back)] for i in start]) "
   ]
  },
  {
   "cell_type": "markdown",
   "metadata": {},
   "source": [
    "Expected LSTM input data shape is \n",
    "\n",
    "*(batch_size, timesteps, data_dim)*, \n",
    "\n",
    "where *timesteps* is the number of sequences in one sample. \n",
    "\n",
    "We have only 1 sequence in this example, so reshape input data accordingly"
   ]
  },
  {
   "cell_type": "code",
   "execution_count": 42,
   "metadata": {},
   "outputs": [
    {
     "name": "stdout",
     "output_type": "stream",
     "text": [
      "before (993, 6)\n",
      "after (993, 1, 6)\n"
     ]
    }
   ],
   "source": [
    "print('before',data.shape)\n",
    "data = np.reshape(data, (data.shape[0], 1, look_back))\n",
    "print('after',data.shape)"
   ]
  },
  {
   "cell_type": "markdown",
   "metadata": {},
   "source": [
    "Keras constuctor for [LSTM layer](https://keras.io/layers/recurrent/) has more than 20 arguments. \n",
    "\n",
    "For simplicity we list only fewcarguments recommended for this project:\n",
    " \n",
    "`keras.layers.LSTM(units, activation='tanh', recurrent_activation='hard_sigmoid', dropout=0.0, recurrent_dropout=0.0, ...)`\n",
    "\n",
    "- units: Positive integer, dimensionality of the output space.\n",
    "- activation: Activation function to use (see activations). If you pass None, no activation is applied (ie. \"linear\" activation: a(x) = x).\n",
    "- recurrent_activation: Activation function to use for the recurrent step (see activations).\n",
    "- dropout: Float between 0 and 1. Fraction of the units to drop for the linear transformation of the inputs.\n",
    "- recurrent_dropout: Float between 0 and 1. Fraction of the units to drop for the linear transformation of the recurrent state.\n",
    "- ...: additional omitted parameters\n",
    "\n",
    "The following function creates simple LSTM network using functional API."
   ]
  },
  {
   "cell_type": "code",
   "execution_count": 43,
   "metadata": {
    "collapsed": true
   },
   "outputs": [],
   "source": [
    "def LSTM_model(neurons):\n",
    "    # neurons: positive integer\n",
    "    input = Input(shape=(1, look_back))\n",
    "    x = LSTM(neurons)(input)\n",
    "    output = Dense(1, activation='linear')(x)\n",
    "    model = Model(inputs=input, outputs=output)\n",
    "    model.compile(loss=\"mean_squared_error\", optimizer=\"adam\")\n",
    "    return model\n",
    "\n",
    "model = LSTM_model(4)"
   ]
  },
  {
   "cell_type": "markdown",
   "metadata": {},
   "source": [
    "Print the model by either *'SVG'* or *'plot_model'*"
   ]
  },
  {
   "cell_type": "code",
   "execution_count": 44,
   "metadata": {},
   "outputs": [
    {
     "data": {
      "image/svg+xml": [
       "<svg height=\"191pt\" viewBox=\"0.00 0.00 134.00 191.00\" width=\"134pt\" xmlns=\"http://www.w3.org/2000/svg\" xmlns:xlink=\"http://www.w3.org/1999/xlink\">\n",
       "<g class=\"graph\" id=\"graph0\" transform=\"scale(1 1) rotate(0) translate(4 187)\">\n",
       "<title>G</title>\n",
       "<polygon fill=\"white\" points=\"-4,4 -4,-187 130,-187 130,4 -4,4\" stroke=\"none\"/>\n",
       "<!-- 2494395783712 -->\n",
       "<g class=\"node\" id=\"node1\"><title>2494395783712</title>\n",
       "<polygon fill=\"none\" points=\"0,-146.5 0,-182.5 126,-182.5 126,-146.5 0,-146.5\" stroke=\"black\"/>\n",
       "<text font-family=\"Times New Roman,serif\" font-size=\"14.00\" text-anchor=\"middle\" x=\"63\" y=\"-160.8\">input_1: InputLayer</text>\n",
       "</g>\n",
       "<!-- 2494395781752 -->\n",
       "<g class=\"node\" id=\"node2\"><title>2494395781752</title>\n",
       "<polygon fill=\"none\" points=\"14,-73.5 14,-109.5 112,-109.5 112,-73.5 14,-73.5\" stroke=\"black\"/>\n",
       "<text font-family=\"Times New Roman,serif\" font-size=\"14.00\" text-anchor=\"middle\" x=\"63\" y=\"-87.8\">lstm_1: LSTM</text>\n",
       "</g>\n",
       "<!-- 2494395783712&#45;&gt;2494395781752 -->\n",
       "<g class=\"edge\" id=\"edge1\"><title>2494395783712-&gt;2494395781752</title>\n",
       "<path d=\"M63,-146.313C63,-138.289 63,-128.547 63,-119.569\" fill=\"none\" stroke=\"black\"/>\n",
       "<polygon fill=\"black\" points=\"66.5001,-119.529 63,-109.529 59.5001,-119.529 66.5001,-119.529\" stroke=\"black\"/>\n",
       "</g>\n",
       "<!-- 2494395940312 -->\n",
       "<g class=\"node\" id=\"node3\"><title>2494395940312</title>\n",
       "<polygon fill=\"none\" points=\"11,-0.5 11,-36.5 115,-36.5 115,-0.5 11,-0.5\" stroke=\"black\"/>\n",
       "<text font-family=\"Times New Roman,serif\" font-size=\"14.00\" text-anchor=\"middle\" x=\"63\" y=\"-14.8\">dense_1: Dense</text>\n",
       "</g>\n",
       "<!-- 2494395781752&#45;&gt;2494395940312 -->\n",
       "<g class=\"edge\" id=\"edge2\"><title>2494395781752-&gt;2494395940312</title>\n",
       "<path d=\"M63,-73.3129C63,-65.2895 63,-55.5475 63,-46.5691\" fill=\"none\" stroke=\"black\"/>\n",
       "<polygon fill=\"black\" points=\"66.5001,-46.5288 63,-36.5288 59.5001,-46.5289 66.5001,-46.5288\" stroke=\"black\"/>\n",
       "</g>\n",
       "</g>\n",
       "</svg>"
      ],
      "text/plain": [
       "<IPython.core.display.SVG object>"
      ]
     },
     "execution_count": 44,
     "metadata": {},
     "output_type": "execute_result"
    }
   ],
   "source": [
    "plot_model(model, to_file='LSTM_ex1.png',show_shapes=True,show_layer_names=True)\n",
    "SVG(model_to_dot(model).create(prog='dot', format='svg'))"
   ]
  },
  {
   "cell_type": "markdown",
   "metadata": {},
   "source": [
    "Plotting model from the saved file.\n",
    "![LSTM_ex1](./LSTM_ex1.png)  "
   ]
  },
  {
   "cell_type": "markdown",
   "metadata": {},
   "source": [
    "Define *EarlyStopping* callback and fit the model."
   ]
  },
  {
   "cell_type": "code",
   "execution_count": 45,
   "metadata": {},
   "outputs": [
    {
     "name": "stdout",
     "output_type": "stream",
     "text": [
      "Train on 794 samples, validate on 199 samples\n",
      "Epoch 1/100\n",
      "1s - loss: 3.8956 - val_loss: 8.3680\n",
      "Epoch 2/100\n",
      "0s - loss: 3.6381 - val_loss: 8.0416\n",
      "Epoch 3/100\n",
      "0s - loss: 3.4581 - val_loss: 7.7786\n",
      "Epoch 4/100\n",
      "0s - loss: 3.3105 - val_loss: 7.4804\n",
      "Epoch 5/100\n",
      "0s - loss: 3.1295 - val_loss: 7.0428\n",
      "Epoch 6/100\n",
      "0s - loss: 2.9268 - val_loss: 6.5683\n",
      "Epoch 7/100\n",
      "0s - loss: 2.7311 - val_loss: 6.1272\n",
      "Epoch 8/100\n",
      "0s - loss: 2.5537 - val_loss: 5.7575\n",
      "Epoch 9/100\n",
      "0s - loss: 2.4051 - val_loss: 5.4498\n",
      "Epoch 10/100\n",
      "0s - loss: 2.2840 - val_loss: 5.2004\n",
      "Epoch 11/100\n",
      "0s - loss: 2.1737 - val_loss: 4.9653\n",
      "Epoch 12/100\n",
      "0s - loss: 2.0684 - val_loss: 4.7414\n",
      "Epoch 13/100\n",
      "0s - loss: 1.9661 - val_loss: 4.5363\n",
      "Epoch 14/100\n",
      "0s - loss: 1.8705 - val_loss: 4.3342\n",
      "Epoch 15/100\n",
      "0s - loss: 1.7807 - val_loss: 4.1478\n",
      "Epoch 16/100\n",
      "0s - loss: 1.6998 - val_loss: 3.9624\n",
      "Epoch 17/100\n",
      "0s - loss: 1.6228 - val_loss: 3.7924\n",
      "Epoch 18/100\n",
      "0s - loss: 1.5524 - val_loss: 3.6234\n",
      "Epoch 19/100\n",
      "0s - loss: 1.4848 - val_loss: 3.4654\n",
      "Epoch 20/100\n",
      "0s - loss: 1.4207 - val_loss: 3.3141\n",
      "Epoch 21/100\n",
      "0s - loss: 1.3595 - val_loss: 3.1714\n",
      "Epoch 22/100\n",
      "0s - loss: 1.3016 - val_loss: 3.0267\n",
      "Epoch 23/100\n",
      "0s - loss: 1.2450 - val_loss: 2.8926\n",
      "Epoch 24/100\n",
      "0s - loss: 1.1917 - val_loss: 2.7622\n",
      "Epoch 25/100\n",
      "0s - loss: 1.1397 - val_loss: 2.6441\n",
      "Epoch 26/100\n",
      "0s - loss: 1.0920 - val_loss: 2.5219\n",
      "Epoch 27/100\n",
      "0s - loss: 1.0449 - val_loss: 2.4082\n",
      "Epoch 28/100\n",
      "0s - loss: 0.9996 - val_loss: 2.3023\n",
      "Epoch 29/100\n",
      "0s - loss: 0.9564 - val_loss: 2.2017\n",
      "Epoch 30/100\n",
      "0s - loss: 0.9154 - val_loss: 2.1034\n",
      "Epoch 31/100\n",
      "0s - loss: 0.8762 - val_loss: 2.0055\n",
      "Epoch 32/100\n",
      "0s - loss: 0.8376 - val_loss: 1.9166\n",
      "Epoch 33/100\n",
      "0s - loss: 0.8014 - val_loss: 1.8304\n",
      "Epoch 34/100\n",
      "0s - loss: 0.7665 - val_loss: 1.7472\n",
      "Epoch 35/100\n",
      "0s - loss: 0.7332 - val_loss: 1.6675\n",
      "Epoch 36/100\n",
      "0s - loss: 0.7008 - val_loss: 1.5952\n",
      "Epoch 37/100\n",
      "0s - loss: 0.6707 - val_loss: 1.5184\n",
      "Epoch 38/100\n",
      "0s - loss: 0.6406 - val_loss: 1.4521\n",
      "Epoch 39/100\n",
      "0s - loss: 0.6126 - val_loss: 1.3842\n",
      "Epoch 40/100\n",
      "0s - loss: 0.5856 - val_loss: 1.3207\n",
      "Epoch 41/100\n",
      "0s - loss: 0.5595 - val_loss: 1.2603\n",
      "Epoch 42/100\n",
      "0s - loss: 0.5352 - val_loss: 1.2006\n",
      "Epoch 43/100\n",
      "0s - loss: 0.5109 - val_loss: 1.1496\n",
      "Epoch 44/100\n",
      "0s - loss: 0.4885 - val_loss: 1.0933\n",
      "Epoch 45/100\n",
      "0s - loss: 0.4669 - val_loss: 1.0460\n",
      "Epoch 46/100\n",
      "0s - loss: 0.4463 - val_loss: 0.9922\n",
      "Epoch 47/100\n",
      "0s - loss: 0.4261 - val_loss: 0.9474\n",
      "Epoch 48/100\n",
      "0s - loss: 0.4068 - val_loss: 0.9038\n",
      "Epoch 49/100\n",
      "0s - loss: 0.3890 - val_loss: 0.8577\n",
      "Epoch 50/100\n",
      "0s - loss: 0.3712 - val_loss: 0.8193\n",
      "Epoch 51/100\n",
      "0s - loss: 0.3547 - val_loss: 0.7799\n",
      "Epoch 52/100\n",
      "0s - loss: 0.3387 - val_loss: 0.7431\n",
      "Epoch 53/100\n",
      "0s - loss: 0.3234 - val_loss: 0.7081\n",
      "Epoch 54/100\n",
      "0s - loss: 0.3088 - val_loss: 0.6736\n",
      "Epoch 55/100\n",
      "0s - loss: 0.2951 - val_loss: 0.6396\n",
      "Epoch 56/100\n",
      "0s - loss: 0.2815 - val_loss: 0.6133\n",
      "Epoch 57/100\n",
      "0s - loss: 0.2690 - val_loss: 0.5822\n",
      "Epoch 58/100\n",
      "0s - loss: 0.2568 - val_loss: 0.5514\n",
      "Epoch 59/100\n",
      "0s - loss: 0.2449 - val_loss: 0.5272\n",
      "Epoch 60/100\n",
      "0s - loss: 0.2338 - val_loss: 0.4988\n",
      "Epoch 61/100\n",
      "0s - loss: 0.2234 - val_loss: 0.4811\n",
      "Epoch 62/100\n",
      "0s - loss: 0.2132 - val_loss: 0.4580\n",
      "Epoch 63/100\n",
      "0s - loss: 0.2035 - val_loss: 0.4352\n",
      "Epoch 64/100\n",
      "0s - loss: 0.1943 - val_loss: 0.4114\n",
      "Epoch 65/100\n",
      "0s - loss: 0.1854 - val_loss: 0.3932\n",
      "Epoch 66/100\n",
      "0s - loss: 0.1769 - val_loss: 0.3734\n",
      "Epoch 67/100\n",
      "0s - loss: 0.1688 - val_loss: 0.3563\n",
      "Epoch 68/100\n",
      "0s - loss: 0.1613 - val_loss: 0.3438\n",
      "Epoch 69/100\n",
      "0s - loss: 0.1538 - val_loss: 0.3222\n",
      "Epoch 70/100\n",
      "0s - loss: 0.1468 - val_loss: 0.3055\n",
      "Epoch 71/100\n",
      "0s - loss: 0.1403 - val_loss: 0.2923\n",
      "Epoch 72/100\n",
      "0s - loss: 0.1336 - val_loss: 0.2792\n",
      "Epoch 73/100\n",
      "0s - loss: 0.1275 - val_loss: 0.2655\n",
      "Epoch 74/100\n",
      "0s - loss: 0.1218 - val_loss: 0.2528\n",
      "Epoch 75/100\n",
      "0s - loss: 0.1162 - val_loss: 0.2418\n",
      "Epoch 76/100\n",
      "0s - loss: 0.1109 - val_loss: 0.2296\n",
      "Epoch 77/100\n",
      "0s - loss: 0.1059 - val_loss: 0.2167\n",
      "Epoch 78/100\n",
      "0s - loss: 0.1009 - val_loss: 0.2114\n",
      "Epoch 79/100\n",
      "0s - loss: 0.0965 - val_loss: 0.2045\n",
      "Epoch 80/100\n",
      "0s - loss: 0.0920 - val_loss: 0.1962\n",
      "Epoch 81/100\n",
      "0s - loss: 0.0879 - val_loss: 0.1797\n",
      "Epoch 82/100\n",
      "0s - loss: 0.0839 - val_loss: 0.1703\n",
      "Epoch 83/100\n",
      "0s - loss: 0.0800 - val_loss: 0.1671\n",
      "Epoch 84/100\n",
      "0s - loss: 0.0764 - val_loss: 0.1563\n",
      "Epoch 85/100\n",
      "0s - loss: 0.0729 - val_loss: 0.1493\n",
      "Epoch 86/100\n",
      "0s - loss: 0.0696 - val_loss: 0.1515\n",
      "Epoch 87/100\n",
      "0s - loss: 0.0664 - val_loss: 0.1342\n",
      "Epoch 88/100\n",
      "0s - loss: 0.0634 - val_loss: 0.1378\n",
      "Epoch 89/100\n",
      "0s - loss: 0.0607 - val_loss: 0.1297\n",
      "Epoch 90/100\n",
      "0s - loss: 0.0578 - val_loss: 0.1223\n",
      "Epoch 91/100\n",
      "0s - loss: 0.0553 - val_loss: 0.1148\n",
      "Epoch 92/100\n",
      "0s - loss: 0.0530 - val_loss: 0.1145\n",
      "Epoch 93/100\n",
      "0s - loss: 0.0506 - val_loss: 0.1139\n",
      "Epoch 94/100\n",
      "0s - loss: 0.0485 - val_loss: 0.1034\n",
      "Epoch 95/100\n",
      "0s - loss: 0.0460 - val_loss: 0.1044\n",
      "Epoch 96/100\n",
      "0s - loss: 0.0441 - val_loss: 0.0949\n",
      "Epoch 97/100\n",
      "0s - loss: 0.0421 - val_loss: 0.0910\n",
      "Epoch 98/100\n",
      "0s - loss: 0.0402 - val_loss: 0.0870\n",
      "Epoch 99/100\n",
      "0s - loss: 0.0387 - val_loss: 0.0862\n",
      "Epoch 100/100\n",
      "0s - loss: 0.0368 - val_loss: 0.0772\n",
      "LSTM : loss =  0.0771745286376  epochs = 100\n"
     ]
    }
   ],
   "source": [
    "valid_size = 0.2 # splitting into train and test\n",
    "early_stopping = EarlyStopping(monitor=\"val_loss\", patience=1)\n",
    "\n",
    "hist = model.fit(data,target,epochs=100,validation_split = valid_size,\n",
    "          callbacks=[early_stopping],verbose=2)\n",
    "print('LSTM : loss = ',min(hist.history['val_loss']),' epochs =',\n",
    "      len(hist.history['val_loss']))"
   ]
  },
  {
   "cell_type": "markdown",
   "metadata": {},
   "source": [
    "Keras does not shuffle the data in validation process. It just takes the end of the data for validation. <br>\n",
    "Make prediction of the part of the data that was not used in training"
   ]
  },
  {
   "cell_type": "code",
   "execution_count": 46,
   "metadata": {},
   "outputs": [
    {
     "data": {
      "text/plain": [
       "[<matplotlib.lines.Line2D at 0x244c55856a0>]"
      ]
     },
     "execution_count": 46,
     "metadata": {},
     "output_type": "execute_result"
    },
    {
     "data": {
      "image/png": "[encoded data removed]",
      "text/plain": [
       "<matplotlib.figure.Figure at 0x244c60706d8>"
      ]
     },
     "metadata": {},
     "output_type": "display_data"
    }
   ],
   "source": [
    "valid_dim = int(valid_size*data.shape[0])  # number of validation samples\n",
    "plt.plot(t,X)\n",
    "y = model.predict(data[-valid_dim:,:,:])\n",
    "plt.plot(t[-valid_dim:],y)"
   ]
  },
  {
   "cell_type": "markdown",
   "metadata": {},
   "source": [
    "In order to improve prediction quality increase number of neurons in LSTM layer to 20."
   ]
  },
  {
   "cell_type": "code",
   "execution_count": 48,
   "metadata": {},
   "outputs": [
    {
     "name": "stdout",
     "output_type": "stream",
     "text": [
      "LSTM : loss =  0.0434727902856  epochs = 59\n"
     ]
    },
    {
     "data": {
      "text/plain": [
       "[<matplotlib.lines.Line2D at 0x244d067fb70>]"
      ]
     },
     "execution_count": 48,
     "metadata": {},
     "output_type": "execute_result"
    },
    {
     "data": {
      "image/png": "[encoded data removed]",
      "text/plain": [
       "<matplotlib.figure.Figure at 0x244cfe01780>"
      ]
     },
     "metadata": {},
     "output_type": "display_data"
    }
   ],
   "source": [
    "model = LSTM_model(10)\n",
    "hist = model.fit(data,target,epochs=100,validation_split = valid_size,\n",
    "          callbacks=[early_stopping],verbose=0)\n",
    "print('LSTM : loss = ',min(hist.history['val_loss']),' epochs =',\n",
    "      len(hist.history['val_loss']))\n",
    "plt.plot(t,X)\n",
    "y = model.predict(data[-valid_dim:,:,:])\n",
    "plt.plot(t[-valid_dim:],y)"
   ]
  },
  {
   "cell_type": "markdown",
   "metadata": {},
   "source": [
    "With increased number of neurons RMSE is better. \n",
    "\n",
    "Increase number of neurons to 50 and check the results again."
   ]
  },
  {
   "cell_type": "code",
   "execution_count": 47,
   "metadata": {},
   "outputs": [
    {
     "name": "stdout",
     "output_type": "stream",
     "text": [
      "LSTM : loss =  0.0728891554977  epochs = 5\n"
     ]
    },
    {
     "data": {
      "text/plain": [
       "[<matplotlib.lines.Line2D at 0x244cd3d8780>]"
      ]
     },
     "execution_count": 47,
     "metadata": {},
     "output_type": "execute_result"
    },
    {
     "data": {
      "image/png": "[encoded data removed]",
      "text/plain": [
       "<matplotlib.figure.Figure at 0x244ccb13940>"
      ]
     },
     "metadata": {},
     "output_type": "display_data"
    }
   ],
   "source": [
    "model = LSTM_model(50)\n",
    "hist = model.fit(data,target,epochs=100,validation_split = valid_size,\n",
    "          callbacks=[early_stopping],verbose=0)\n",
    "print('LSTM : loss = ',min(hist.history['val_loss']),' epochs =',\n",
    "      len(hist.history['val_loss']))\n",
    "plt.plot(t,X)\n",
    "y = model.predict(data[-valid_dim:,:,:])\n",
    "plt.plot(t[-valid_dim:],y)"
   ]
  },
  {
   "cell_type": "markdown",
   "metadata": {},
   "source": [
    "More neurons does not always mean better."
   ]
  },
  {
   "cell_type": "markdown",
   "metadata": {},
   "source": [
    "# Steps of Preprocessing\n",
    "\n",
    "Description of all Keras tools necessary for converting questions into additional useful features for neural network is over. \n",
    "\n",
    "Now go through the several following steps of processing questions. \n",
    "\n",
    "## Step 1. Lemmatization\n",
    "\n",
    "Questions are preprocessed so that the different forms of writing the same text (like \"don't\" and \"do not\") are  matched. Lemmatization similar to one done in the first part of the project helps again. \n",
    "\n",
    "Lemmatize with *WordNetLemmatizer*:"
   ]
  },
  {
   "cell_type": "code",
   "execution_count": 49,
   "metadata": {
    "collapsed": true
   },
   "outputs": [],
   "source": [
    "from nltk.stem.wordnet import WordNetLemmatizer\n",
    "WNL = WordNetLemmatizer()\n",
    "\n",
    "def cutter(word):\n",
    "    if len(word) < 4:\n",
    "        return word\n",
    "    return WNL.lemmatize(WNL.lemmatize(word, \"n\"), \"v\")"
   ]
  },
  {
   "cell_type": "markdown",
   "metadata": {},
   "source": [
    "Function *'cutter()'* lemmatizes words to standardized form."
   ]
  },
  {
   "cell_type": "code",
   "execution_count": 50,
   "metadata": {},
   "outputs": [
    {
     "data": {
      "text/plain": [
       "'visualize'"
      ]
     },
     "execution_count": 50,
     "metadata": {},
     "output_type": "execute_result"
    }
   ],
   "source": [
    "cutter('visualizing')"
   ]
  },
  {
   "cell_type": "markdown",
   "metadata": {},
   "source": [
    "Here is one of preprocessing transformations of questions suggested during Kaggle competition."
   ]
  },
  {
   "cell_type": "code",
   "execution_count": 52,
   "metadata": {
    "collapsed": true
   },
   "outputs": [],
   "source": [
    "import re\n",
    "def preprocess(string):\n",
    "    # standardize expression with apostrophe, replace some special symbols with word\n",
    "    string = string.lower().replace(\",000,000\", \"m\").replace(\",000\", \"k\").replace(\"′\", \"'\").replace(\"’\", \"'\") \\\n",
    "        .replace(\"won't\", \"will not\").replace(\"cannot\", \"can not\").replace(\"can't\", \"can not\") \\\n",
    "        .replace(\"n't\", \" not\").replace(\"what's\", \"what is\").replace(\"it's\", \"it is\") \\\n",
    "        .replace(\"'ve\", \" have\").replace(\"i'm\", \"i am\").replace(\"'re\", \" are\") \\\n",
    "        .replace(\"he's\", \"he is\").replace(\"she's\", \"she is\").replace(\"'s\", \" own\") \\\n",
    "        .replace(\"%\", \" percent \").replace(\"₹\", \" rupee \").replace(\"$\", \" dollar \") \\\n",
    "        .replace(\"€\", \" euro \").replace(\"'ll\", \" will\").replace(\"=\", \" equal \").replace(\"+\", \" plus \")\n",
    "    # remove punctuation and special symbols\n",
    "    string = re.sub('[“”\\(\\'…\\)\\!\\^\\\"\\.;:,\\-\\?？\\{\\}\\[\\]\\\\/\\*@]', ' ', string)\n",
    "    string = re.sub(r\"([0-9]+)000000\", r\"\\1m\", string)\n",
    "    string = re.sub(r\"([0-9]+)000\", r\"\\1k\", string)\n",
    "    # lemmatize\n",
    "    string = ' '.join([cutter(w) for w in string.split()])\n",
    "    return string"
   ]
  },
  {
   "cell_type": "markdown",
   "metadata": {},
   "source": [
    "Apply preprocessing to train sample. \n",
    "\n",
    "All transformations applied to train should be applied to test too."
   ]
  },
  {
   "cell_type": "code",
   "execution_count": 57,
   "metadata": {},
   "outputs": [
    {
     "name": "stdout",
     "output_type": "stream",
     "text": [
      "Question 1: what is the story of kohinoor koh i noor diamond\n",
      "Question 2: what would happen if the indian government steal the kohinoor koh i noor diamond back\n",
      "Question 1 processed: what is the story of kohinoor koh i noor diamond\n",
      "Question 2 processed: what would happen if the indian government steal the kohinoor koh i noor diamond back\n"
     ]
    }
   ],
   "source": [
    "print('Question 1: %s' % train[\"question1\"][1])\n",
    "print('Question 2: %s' % train[\"question2\"][1])\n",
    "train[\"question1\"] = train[\"question1\"].fillna(\"\").apply(preprocess)\n",
    "train[\"question2\"] = train[\"question2\"].fillna(\"\").apply(preprocess)\n",
    "print('Question 1 processed: %s' % train.question1[1])\n",
    "print('Question 2 processed: %s' % train.question2[1])"
   ]
  },
  {
   "cell_type": "code",
   "execution_count": 63,
   "metadata": {},
   "outputs": [
    {
     "data": {
      "text/plain": [
       "0       what is the step by step guide to invest in sh...\n",
       "1        what is the story of kohinoor koh i noor diamond\n",
       "2       how can i increase the speed of my internet co...\n",
       "3        why am i mentally very lonely how can i solve it\n",
       "4       which one dissolve in water quikly sugar salt ...\n",
       "5       astrology i am a capricorn sun cap moon and ca...\n",
       "6                                      should i buy tiago\n",
       "7                           how can i be a good geologist\n",
       "8                          when do you use シ instead of し\n",
       "9       motorola company can i hack my charter motorol...\n",
       "10      method to find separation of slit use fresnel ...\n",
       "11              how do i read and find my youtube comment\n",
       "12                     what can make physic easy to learn\n",
       "13             what was your first sexual experience like\n",
       "14      what are the law to change your status from a ...\n",
       "15      what would a trump presidency mean for current...\n",
       "16                             what doe manipulation mean\n",
       "17      why do girl want to be friend with the guy the...\n",
       "18      why are so many quora user post question that ...\n",
       "19      which is the best digital market institution i...\n",
       "20                               why do rocket look white\n",
       "21                    what is cause someone to be jealous\n",
       "22          what are the question should not ask on quora\n",
       "23                                how much is 30 kv in hp\n",
       "24      what doe it mean that every time i look at the...\n",
       "25      what are some tip on make it through the job i...\n",
       "26                                what is web application\n",
       "27         doe society place too much importance on sport\n",
       "28                  what is best way to make money online\n",
       "29                  how should i prepare for ca final law\n",
       "                              ...                        \n",
       "1970    what was your biggest challenge as secretary o...\n",
       "1971       what exactly is a framework in layman own term\n",
       "1972                        doe okha express provide food\n",
       "1973                       where can i find a good hacker\n",
       "1974    how do i change the register mobile number for...\n",
       "1975    what are some tip on make it through the job i...\n",
       "1976    what are the main import and export of venezue...\n",
       "1977    how do the role of the cia the nsc and other r...\n",
       "1978                     what are the best movie to watch\n",
       "1979    can you download cydia on your device without ...\n",
       "1980              how do i get job in google or microsoft\n",
       "1981    fahrenheit 451 1953 book what is guy montag ow...\n",
       "1982    what is your review of love on the rock 2004 m...\n",
       "1983     is it possible to travel back or forward in time\n",
       "1984    why do we get sea breeze in summer but rarely ...\n",
       "1985             how do i recover delete facebook message\n",
       "1986       customer service what is uber own phone number\n",
       "1987    is there any way to purchase a phone on emi vi...\n",
       "1988                        what is agile and scrum model\n",
       "1989                        my life is bore what can i do\n",
       "1990                 where can i buy meldonium in the u s\n",
       "1991    what can be the most insane way to commit suicide\n",
       "1992                          is 100 76 ok blood pressure\n",
       "1993             what are your best paranormal experience\n",
       "1994    what exactly is the vyapam scam why have so ma...\n",
       "1995    my fiancée die recently and it pain my heart h...\n",
       "1996    in sydney which company would be the best to g...\n",
       "1997    why most of the cosmetic product do not have p...\n",
       "1998    can we map the surface and the subsurface of a...\n",
       "1999                          dive the blue hole in dahab\n",
       "Length: 2000, dtype: object"
      ]
     },
     "execution_count": 63,
     "metadata": {},
     "output_type": "execute_result"
    }
   ],
   "source": [
    "pd.Series(train[\"question1\"].tolist() + train[\"question2\"].tolist())"
   ]
  },
  {
   "cell_type": "markdown",
   "metadata": {},
   "source": [
    "## Step 2. Creating vocabulary of frequent words\n",
    "\n",
    "Create vocabulary of relatively frequent words in questions: words with frequency greater than *MIN_WORD_OCCURRENCE* times. \n",
    "\n",
    "For the small dataset *MIN_WORD_OCCURRENCE* is selected small, but for the whole dataset it should be much larger (may be in the range 50-150).\n",
    "\n",
    "For word count use familiar *CountVectorizer*."
   ]
  },
  {
   "cell_type": "code",
   "execution_count": 64,
   "metadata": {
    "scrolled": false
   },
   "outputs": [
    {
     "name": "stdout",
     "output_type": "stream",
     "text": [
      "1019 top_words\n",
      "Top words ['try', 'relationship', 'love', 'got', 'youtube', 'screen', 'too', 'join', 'delete', 'hillary']\n"
     ]
    }
   ],
   "source": [
    "from sklearn.feature_extraction.text import CountVectorizer\n",
    "\n",
    "MIN_WORD_OCCURRENCE = 3 # 3 for demo and testing in local environment. Select number for final results\n",
    "\n",
    "all_questions = pd.Series(train[\"question1\"].tolist() + train[\"question2\"].tolist()).unique()\n",
    "vectorizer = CountVectorizer(lowercase=False, token_pattern=\"\\S+\", # replace white spaces with spaces\n",
    "                             min_df=MIN_WORD_OCCURRENCE)\n",
    "vectorizer.fit(all_questions)\n",
    "top_words = set(vectorizer.vocabulary_.keys())\n",
    "print(len(top_words),'top_words')\n",
    "print('Top words %s' % list(top_words)[:10])"
   ]
  },
  {
   "cell_type": "markdown",
   "metadata": {},
   "source": [
    "## Step 3. Remove rare words\n",
    "\n",
    "The consecutive rare words are replaced with one word \"suspense\" (you may try another replacement). The result is limited to 30 trailing words. \n",
    "\n",
    "Remove first words in long question since the end of it is usually more important. \n",
    "\n",
    "Add \"suspense\" to *top_words*."
   ]
  },
  {
   "cell_type": "code",
   "execution_count": 65,
   "metadata": {
    "collapsed": true
   },
   "outputs": [],
   "source": [
    "REPLACE_WORD = \"suspense\"\n",
    "top_words.add(REPLACE_WORD)\n",
    "MAX_SEQUENCE_LENGTH = 30"
   ]
  },
  {
   "cell_type": "code",
   "execution_count": 66,
   "metadata": {},
   "outputs": [
    {
     "name": "stdout",
     "output_type": "stream",
     "text": [
      "Question: motorola company can i hack my charter motorolla dcx3400\n",
      "Prepared question: suspense company can i hack my suspense\n"
     ]
    }
   ],
   "source": [
    "def prepare(q):\n",
    "    new_q = []\n",
    "    new_suspense = True # ready to add REPLACE_WORD \n",
    "    # a[::-1] invert order of list a, so we start from the end\n",
    "    for w in q.split()[::-1]:\n",
    "        if w in top_words:\n",
    "            new_q = [w] + new_q # add word from top_words\n",
    "            new_suspense = True\n",
    "        elif new_suspense:\n",
    "            new_q = [REPLACE_WORD] + new_q\n",
    "            new_suspense = False  # only 1 REPLACE_WORD for group of rare words\n",
    "        if len(new_q) == MAX_SEQUENCE_LENGTH:\n",
    "            break\n",
    "    new_q = \" \".join(new_q)\n",
    "    return new_q\n",
    "\n",
    "question = train.question1[9]\n",
    "print('Question: %s' % question)\n",
    "print('Prepared question: %s' % prepare(question))"
   ]
  },
  {
   "cell_type": "markdown",
   "metadata": {},
   "source": [
    "Apply the function to train questions"
   ]
  },
  {
   "cell_type": "code",
   "execution_count": 67,
   "metadata": {},
   "outputs": [
    {
     "name": "stdout",
     "output_type": "stream",
     "text": [
      "what is the step by step suspense to invest in share market in india\n"
     ]
    }
   ],
   "source": [
    "q1s_train = train.question1.apply(prepare)\n",
    "q2s_train = train.question2.apply(prepare)\n",
    "print(q1s_train[0])"
   ]
  },
  {
   "cell_type": "markdown",
   "metadata": {},
   "source": [
    "## Step 4. Create embedding index\n",
    "\n",
    "Build embedding index - dictionary with words from *top_words* as keys and their vector presentations as values.\n",
    "\n",
    "Take vector presentations of words from Common Crawl (840B tokens, 2.2M vocab, cased, 300d vectors, 2.03 GB download) embedding file [glove.840B.300d](http://nlp.stanford.edu/data/glove.840B.300d.zip). Each line of the file contains word space separated from components of word vector."
   ]
  },
  {
   "cell_type": "code",
   "execution_count": 70,
   "metadata": {
    "collapsed": true
   },
   "outputs": [],
   "source": [
    "EMBEDDING_DIM = 300\n",
    "EMBEDDING_FILE = \"glove.840B.300d.txt\"\n",
    "\n",
    "def get_embedding():\n",
    "    embeddings_index = {}\n",
    "    with open(EMBEDDING_FILE, encoding='utf8') as f:\n",
    "        for line in f:\n",
    "            values = line.split()\n",
    "            word = values[0]\n",
    "            if len(values) == EMBEDDING_DIM + 1 and word in top_words:\n",
    "                coefs = np.asarray(values[1:], dtype=\"float32\")\n",
    "                embeddings_index[word] = coefs\n",
    "    return embeddings_index"
   ]
  },
  {
   "cell_type": "markdown",
   "metadata": {},
   "source": [
    "Build *embeddings_index* and reduce *top_words* to those having vector representation."
   ]
  },
  {
   "cell_type": "code",
   "execution_count": 71,
   "metadata": {},
   "outputs": [
    {
     "name": "stdout",
     "output_type": "stream",
     "text": [
      "Words not found in the embedding: {'rohingya'}\n"
     ]
    }
   ],
   "source": [
    "embeddings_index = get_embedding()\n",
    "print(\"Words not found in the embedding:\", top_words - embeddings_index.keys())\n",
    "top_words = embeddings_index.keys()"
   ]
  },
  {
   "cell_type": "markdown",
   "metadata": {},
   "source": [
    "## Step 5. Transform questions into integer valued sequences of equal lengths\n",
    "\n",
    "It is described above how *Tokenizer.texts_to_sequences* converts question to a list of integers. \n",
    "\n",
    "But such lists may have different lengths for different questions. \n",
    "\n",
    "Keras provides method for fixing this issue:\n",
    "\n",
    "*keras.preprocessing.sequence.pad_sequences(sequences, maxlen=None, dtype='int32', padding='pre', truncating='pre', value=0.)* \n",
    "\n",
    "It transforms a list of *num_samples* sequences (lists of scalars) into a 2D Numpy array of shape \n",
    "\n",
    "*(num_samples, num_timesteps)*, \n",
    "\n",
    "where *num_timesteps* is either *maxlen* argument (if provided), or the length of the longest sequence.\n",
    "\n",
    "Sequences that are shorter than *num_timesteps* are padded with *value* at the end. Sequences longer than *num_timesteps* are truncated so that they have the desired length. \n",
    "\n",
    "Position where padding or truncation happens is determined by *padding* or *truncating*, respectively.\n",
    "\n",
    "Here are several examples"
   ]
  },
  {
   "cell_type": "code",
   "execution_count": 72,
   "metadata": {},
   "outputs": [
    {
     "name": "stdout",
     "output_type": "stream",
     "text": [
      "Original sequences: [[1, 2], [1, 2, 3, 4, 5]]\n",
      "Padded default: [[0 0 0 1 2]\n",
      " [1 2 3 4 5]]\n",
      "Padded with maxlen=4: [[0 0 1 2]\n",
      " [2 3 4 5]]\n",
      "Padded with maxlen=4, padding=post: [[1 2 0 0]\n",
      " [2 3 4 5]]\n",
      "Padded with maxlen=4, padding=post, truncating=post: [[1 2 0 0]\n",
      " [1 2 3 4]]\n"
     ]
    }
   ],
   "source": [
    "from keras.preprocessing.sequence import pad_sequences\n",
    "sequences = [[1,2],[1,2,3,4,5]]\n",
    "print('Original sequences: %s' % sequences)\n",
    "print('Padded default: %s' % pad_sequences(sequences))\n",
    "print('Padded with maxlen=4: %s' % pad_sequences(sequences,maxlen=4))\n",
    "print('Padded with maxlen=4, padding=post: %s' % pad_sequences(sequences,maxlen=4,padding='post'))\n",
    "print('Padded with maxlen=4, padding=post, truncating=post: %s' \\\n",
    "      %pad_sequences(sequences,maxlen=4,padding='post',truncating='post'))"
   ]
  },
  {
   "cell_type": "markdown",
   "metadata": {},
   "source": [
    "Fit *Tokenizer* to the questions obtained after Step 3 and apply *texts_to_sequences* and *pad_sequences* to them."
   ]
  },
  {
   "cell_type": "code",
   "execution_count": 73,
   "metadata": {},
   "outputs": [
    {
     "name": "stdout",
     "output_type": "stream",
     "text": [
      "Final representation of first question 1:\n",
      "[  0   0   0   0   0   0   0   0   0   0   0   0   0   0   0   0   3   4\n",
      "   2 301  72 301   1   7 302   9 219 220   9  40]\n",
      "Final representation of first question 2:\n",
      "[  0   0   0   0   0   0   0   0   0   0   0   0   0   0   0   0   0   0\n",
      "   3   4   2 301  72 301   1   7 302   9 219 220]\n"
     ]
    }
   ],
   "source": [
    "tokenizer = Tokenizer(filters=\"\")\n",
    "tokenizer.fit_on_texts(np.append(q1s_train, q2s_train))\n",
    "word_index = tokenizer.word_index\n",
    "\n",
    "data_1 = pad_sequences(tokenizer.texts_to_sequences(q1s_train), \n",
    "                       maxlen=MAX_SEQUENCE_LENGTH)\n",
    "data_2 = pad_sequences(tokenizer.texts_to_sequences(q2s_train), \n",
    "                       maxlen=MAX_SEQUENCE_LENGTH)\n",
    "print('Final representation of first question 1:')\n",
    "print(data_1[0])\n",
    "print('Final representation of first question 2:')\n",
    "print(data_2[0])"
   ]
  },
  {
   "cell_type": "markdown",
   "metadata": {},
   "source": [
    "Each question now is represented by a vector of 30 numbers.\n",
    "\n",
    "Repeat the same steps with *test* set and create:\n",
    "\n",
    "*q1s_test -> test_data_1*  \n",
    "*q2s_test -> test_data_2*  \n",
    "\n",
    "Do not refit Tokenizer, use the same as for *train*."
   ]
  },
  {
   "cell_type": "code",
   "execution_count": 75,
   "metadata": {
    "collapsed": true
   },
   "outputs": [],
   "source": [
    "test = pd.read_csv(dataPath+'quora_test_1000.csv',usecols=['question1','question2'])\n",
    "test[\"question1\"] = test[\"question1\"].fillna(\"\").apply(preprocess)\n",
    "test[\"question2\"] = test[\"question2\"].fillna(\"\").apply(preprocess)\n",
    "q1s_test = test.question1.apply(prepare)\n",
    "q2s_test = test.question2.apply(prepare)\n",
    "test_data_1 = pad_sequences(tokenizer.texts_to_sequences(q1s_test), \n",
    "                       maxlen=MAX_SEQUENCE_LENGTH)\n",
    "test_data_2 = pad_sequences(tokenizer.texts_to_sequences(q2s_test), \n",
    "                       maxlen=MAX_SEQUENCE_LENGTH)\n"
   ]
  },
  {
   "cell_type": "markdown",
   "metadata": {},
   "source": [
    "## Step 6. Create embedding matrix\n",
    "\n",
    "Now make embedding matrix of weights from embedding index. \n",
    "\n",
    "The *i-th* row of this matrix is a vector representation of word with index *i* in *word_index*. \n",
    "\n",
    "The embedding matrix will be used as weights matrix for embedding layer."
   ]
  },
  {
   "cell_type": "code",
   "execution_count": 76,
   "metadata": {
    "collapsed": true,
    "scrolled": true
   },
   "outputs": [],
   "source": [
    "nb_words = len(word_index) + 1\n",
    "embedding_matrix = np.zeros((nb_words, EMBEDDING_DIM))  # matrix of zeros\n",
    "\n",
    "for word, i in word_index.items():\n",
    "    embedding_vector = embeddings_index.get(word)\n",
    "    if embedding_vector is not None:\n",
    "        embedding_matrix[i] = embedding_vector"
   ]
  },
  {
   "cell_type": "markdown",
   "metadata": {},
   "source": [
    "Create embedding layer from embedding matrix as follows."
   ]
  },
  {
   "cell_type": "code",
   "execution_count": 77,
   "metadata": {
    "collapsed": true
   },
   "outputs": [],
   "source": [
    "embedding_layer = Embedding(nb_words, EMBEDDING_DIM,\n",
    "                            weights=[embedding_matrix],\n",
    "                            input_length=MAX_SEQUENCE_LENGTH,\n",
    "                            trainable=False)"
   ]
  },
  {
   "cell_type": "markdown",
   "metadata": {},
   "source": [
    "Setting *trainable=False* declares that no changing weights is required during traning. \n",
    "\n",
    "This layer just transforms sequences of integers (word indexes) into sequences of their vector representations.  \n",
    "\n",
    "## Step 7. Save the data\n",
    "\n",
    "We prepared the the following variables for neural network:\n",
    "\n",
    "\n",
    "- *data_1*, *data_2*: padded numeric sequences for questions 1 and 2 in train sample \n",
    "- *test_data_1*, *test_data_2*: padded numeric sequences for questions 1 and 2 in test sample\n",
    "- *nb_words*: length of dictionary *'word_index'* \n",
    "- *embedding_matrix*: matrix for transformation in the embedding layer\n",
    "\n",
    "Save these variables to *.pkl* files"
   ]
  },
  {
   "cell_type": "code",
   "execution_count": 78,
   "metadata": {
    "collapsed": true
   },
   "outputs": [],
   "source": [
    "import pickle\n",
    "with open('./savedData/data_1.pkl', 'wb') as f: pickle.dump(data_1, f, -1)\n",
    "with open('./savedData/data_2.pkl', 'wb') as f: pickle.dump(data_2, f, -1)\n",
    "with open('./savedData/nb_words.pkl', 'wb') as f: pickle.dump(nb_words, f, -1)\n",
    "with open('./savedData/embedding_matrix.pkl', 'wb') as f: pickle.dump(embedding_matrix, f, -1)\n",
    "with open('./savedData/test_data_1.pkl', 'wb') as f: pickle.dump(test_data_1, f, -1)\n",
    "with open('./savedData/test_data_2.pkl', 'wb') as f: pickle.dump(test_data_2, f, -1)    "
   ]
  },
  {
   "cell_type": "markdown",
   "metadata": {},
   "source": [
    "The network will also use NLP features obtained using Spark in the first part of the project.\n",
    "\n",
    "# Nework architecture\n",
    "\n",
    "Quora released a [public dataset of duplicate questions](https://data.quora.com/First-Quora-Dataset-Release-Question-Pairs) before the  competition, so, some interesting solutions had been already available before it started. \n",
    "\n",
    "Among them were approaches from:\n",
    "\n",
    "- [Quora hackathon](https://engineering.quora.com/Semantic-Question-Matching-with-Deep-Learning), \n",
    "- [Deep learning model](https://github.com/bradleypallen/keras-quora-question-pairs)  by Bradley Pallen et al.\n",
    "\n",
    "Those approaches extensively use Recurrent Neural Networks usually with Long Short-Term Memory (LSTM) layers. \n",
    "\n",
    "The competition also showed the power of these methods. <br>\n",
    "\n",
    "Participant [aphex34](https://www.kaggle.com/aphex34) was the only solo competitor among top 10 teams. He used NN techniques on all stages of reasearch including feature engeneering (see [7-th solution overview](https://www.kaggle.com/c/quora-question-pairs/discussion/34697#192676)). But his code has not been published.  \n",
    "\n",
    "In order to solve the problem it is recommended to implement Ahmet Erdem's architecture which is relatively simple and also uses LSTM network.\n",
    "![Ahmed LSTM](https://ilykei.com/api/fileProxy/documents%2FAdvanced%20Machine%20Learning%2FLecture%207%20AdvML%2FAhmedAlgo.png)\n"
   ]
  },
  {
   "cell_type": "code",
   "execution_count": null,
   "metadata": {
    "collapsed": true
   },
   "outputs": [],
   "source": []
  },
  {
   "cell_type": "markdown",
   "metadata": {},
   "source": [
    "This network has 3 inputs: \n",
    "\n",
    "- input_1 and input_2 for questions converted to matrices (*data_1, data_2*) \n",
    "- and input_3 for NLP features. \n",
    "\n",
    "Questions share the same embedding_1 and lstm_1 layers. \n",
    "\n",
    "Denote *y1* and *y2* outputs of layer *'lstm_1'* corresponding to the first and the second inputs, respectively.\n",
    "\n",
    "Calculation inside red square is vector of squared differences of 2 outputs of layer *'lstm_1'*:\n",
    "\n",
    "1. Output *y1* is miltiplied by -1 in lambda_1 layer \n",
    "2. Then the result is added to *y2* in layer *'add_2'*. So, the output of layer *'add_2'* is difference between *y1* and *y2*. (Alternatively you can apply subtraction shown in Keras_basics.ipynb). \n",
    "3. The vector of differences is multiplied by itself element-wise in *'multiply_1'* layer. The result is vector of squared differences.\n",
    "\n",
    "Then the vector of squared differences is concatenated in layer *'concatenate_1'* with sum of *y1* and *y2* obtained in layer *'add_1'*.  \n",
    "\n",
    "The loss function to be minimized is *loss='binary_crossentropy'*."
   ]
  },
  {
   "cell_type": "markdown",
   "metadata": {},
   "source": [
    "# Task description\n",
    "\n",
    "1. Prepare train and test data for network in local environment.\n",
    "2. Implement the network above and tune it in local environment with part of the train data. <br>\n",
    "    Parameters to be tuned are: number of neurons in each layer, dropout rates (including recurrent_dropout of LSTM layer), standard deviation of *GaussianNoise* layer, *batch_size*. \n",
    "3. Run the model on the cluster with complete data and generate submission file as follows:\n",
    "\n",
    "*submission = pd.DataFrame({\"test_id\": test_id, \"is_duplicate\": prediction_prob})*  \n",
    "*submission.to_csv(\"submission1.csv\", index=False)*,\n",
    "\n",
    "where *prediction_prob* is 1D array of prediction probabilities, *test_id* is index from *test_id* column of *test.csv* file.\n",
    "\n",
    "Example of sbatch file to run task on GPU is given below (do not forget to remove end of line symbols < br > at the end of each line):"
   ]
  },
  {
   "cell_type": "raw",
   "metadata": {},
   "source": [
    "#!/bin/bash <br>\n",
    "\n",
    "# This script will request one GPU device and 1 CPU core <br>\n",
    "\n",
    "#SBATCH --account=mscagpu <br>\n",
    "#SBATCH --job-name=Quora2 <br>\n",
    "#SBATCH --output=Quora2.out <br>\n",
    "#SBATCH --error=Quora2.err <br>\n",
    "#SBATCH --time=00:29:00 <br>\n",
    "#SBATCH --nodes=1 <br>\n",
    "#SBATCH --ntasks=1 <br>\n",
    "#SBATCH --partition=mscagpu <br>\n",
    "#SBATCH --gres=gpu:1 <br>\n",
    "#SBATCH --mem-per-cpu=12000 <br>\n",
    "\n",
    "\n",
    "# if your executable was built with CUDA, be sure to load the correct CUDA module: <br>\n",
    "module load Anaconda3 cuda/8.0 <br>\n",
    "\n",
    "# <br>\n",
    "# your GPU-based executable here <br>\n",
    "# <br>\n",
    "python ./model.py <br>"
   ]
  },
  {
   "cell_type": "code",
   "execution_count": null,
   "metadata": {
    "collapsed": true
   },
   "outputs": [],
   "source": [
    "MAX_SEQUENCE_LENGTH=30\n",
    "# Network architecture\n",
    "def getModel(batchsize=512,embed_dim=300)\n",
    "    np.random.seed(1)\n",
    "    model=Sequential()\n",
    "    model.add(Embedding(nb_words, EMBEDDING_DIM,\n",
    "                            weights=[embedding_matrix],\n",
    "                            input_length=MAX_SEQUENCE_LENGTH,\n",
    "                            trainable=False))\n",
    "\n"
   ]
  },
  {
   "cell_type": "code",
   "execution_count": null,
   "metadata": {
    "collapsed": true
   },
   "outputs": [],
   "source": [
    "def getModel(dropout=0.1, neurons1=500, neurons2=250,optimizer=\"Adagrad\"):\n",
    "    np.random.seed(1)\n",
    "    model = Sequential()\n",
    "    model.add(Dense(neurons1, activation='relu', input_dim=num_features))\n",
    "    model.add(Dropout(dropout))\n",
    "    model.add(Dense(neurons2, activation='relu'))\n",
    "    model.add(Dropout(dropout))\n",
    "    model.add(Dense(num_classes, activation='softmax'))\n",
    "    model.compile(loss='categorical_crossentropy',\n",
    "                  optimizer=optimizer, metrics=['accuracy'])\n",
    "    return model"
   ]
  },
  {
   "cell_type": "code",
   "execution_count": null,
   "metadata": {
    "collapsed": true
   },
   "outputs": [],
   "source": [
    "# assign batch size as variable\n",
    "# lengths of vectrs we want to have\n",
    "# global variabeldimension max sequence length(30)\n",
    "# embedding layre needs embedding dimension ( 300)\n",
    "# bigger batch size, smoother gradient, accurate search, but uses memory\n",
    "\n",
    "#submission 1\n",
    "\n",
    "#is_dubplicate    test_id\n",
    "# select cutoff words"
   ]
  }
 ],
 "metadata": {
  "anaconda-cloud": {},
  "kernelspec": {
   "display_name": "Python 3",
   "language": "python",
   "name": "python3"
  },
  "language_info": {
   "codemirror_mode": {
    "name": "ipython",
    "version": 3
   },
   "file_extension": ".py",
   "mimetype": "text/x-python",
   "name": "python",
   "nbconvert_exporter": "python",
   "pygments_lexer": "ipython3",
   "version": "3.6.3"
  }
 },
 "nbformat": 4,
 "nbformat_minor": 1
}
